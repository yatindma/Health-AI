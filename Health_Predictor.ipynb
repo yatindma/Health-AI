{
  "nbformat": 4,
  "nbformat_minor": 0,
  "metadata": {
    "colab": {
      "name": "Health_Predictor.ipynb",
      "provenance": [],
      "authorship_tag": "ABX9TyMqO9syt9QnWb8aVcXZPaGl",
      "include_colab_link": true
    },
    "kernelspec": {
      "name": "python3",
      "display_name": "Python 3"
    }
  },
  "cells": [
    {
      "cell_type": "markdown",
      "metadata": {
        "id": "view-in-github",
        "colab_type": "text"
      },
      "source": [
        "<a href=\"https://colab.research.google.com/github/yatindma/Health_predictor_using_AI/blob/master/Health_Predictor.ipynb\" target=\"_parent\"><img src=\"https://colab.research.google.com/assets/colab-badge.svg\" alt=\"Open In Colab\"/></a>"
      ]
    },
    {
      "cell_type": "markdown",
      "metadata": {
        "id": "OiKQQnvKzO9m",
        "colab_type": "text"
      },
      "source": [
        "Health Predictor"
      ]
    },
    {
      "cell_type": "markdown",
      "metadata": {
        "id": "at5edTm_zR5T",
        "colab_type": "text"
      },
      "source": [
        "Some desciption about the case study \n"
      ]
    },
    {
      "cell_type": "code",
      "metadata": {
        "id": "j_NAz0nMzORB",
        "colab_type": "code",
        "colab": {}
      },
      "source": [
        "# Load the Drive helper and mount\n",
        "from google.colab import drive\n",
        "# This will prompt for authorization.\n",
        "drive.mount('/content/drive')"
      ],
      "execution_count": 0,
      "outputs": []
    }
  ]
}